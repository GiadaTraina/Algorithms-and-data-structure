{
 "cells": [
  {
   "cell_type": "markdown",
   "metadata": {},
   "source": [
    "# Lecture 1\n",
    "\n",
    "---\n",
    "### Exercise: Selection Sort\n",
    "Write the function ```SelectionSort(coll)``` that returns a sorted list with the elements in *coll*. \n",
    "You have to implements Selection Sort algorithm."
   ]
  },
  {
   "cell_type": "code",
   "execution_count": 1,
   "metadata": {},
   "outputs": [],
   "source": [
    "import random\n",
    "\n",
    "def get_random_array(n, b = 50):\n",
    "    return [random.randint(0, b) for _ in range(n)]"
   ]
  },
  {
   "cell_type": "code",
   "execution_count": 2,
   "metadata": {},
   "outputs": [],
   "source": [
    "## Your implementation here!!!\n",
    "def SelectionSort(coll):\n",
    "    A=[]\n",
    "    for elem in coll:\n",
    "        A.append(elem)\n",
    "        \n",
    "    for i in range(len(A)-1):\n",
    "        min_pos=i\n",
    "        for j in range(i+1,len(A)):\n",
    "            if A[j]<A[min_pos]:\n",
    "                min_pos=j\n",
    "        A[i], A[min_pos] = A[min_pos], A[i]\n",
    "    return A\n",
    "\n"
   ]
  },
  {
   "cell_type": "code",
   "execution_count": 3,
   "metadata": {},
   "outputs": [
    {
     "name": "stdout",
     "output_type": "stream",
     "text": [
      "[1, 7, 8, 10, 14, 16, 20, 23, 26, 29, 31, 32, 34, 35, 42, 42, 42, 45, 46, 48]\n",
      "[-38, -3, 7, 14, 15]\n"
     ]
    }
   ],
   "source": [
    "lista = get_random_array(20)\n",
    "print(SelectionSort(lista))\n",
    "\n",
    "lista1=(7,14,-3,15,-38)\n",
    "print(SelectionSort(lista1))"
   ]
  },
  {
   "cell_type": "code",
   "execution_count": 4,
   "metadata": {},
   "outputs": [
    {
     "name": "stdout",
     "output_type": "stream",
     "text": [
      "[0, 1, 2, 3, 4, 5, 6, 7, 8, 9]\n"
     ]
    }
   ],
   "source": [
    "## Check correctdness your implementation!\n",
    "\n",
    "def test_sortedness(my_list):\n",
    "    return my_list == sorted(my_list)\n",
    "\n",
    "my_list = list(range(10))[::-1]\n",
    "\n",
    "print(SelectionSort(my_list))\n",
    "\n",
    "assert test_sortedness( SelectionSort(my_list) ), \"Must be increasing!\""
   ]
  },
  {
   "cell_type": "markdown",
   "metadata": {},
   "source": [
    "----\n",
    "### Exercise: Insertion Sort\n",
    "Write the function ```InsertionSort(coll)``` that returns a sorted list with the elements in *coll*. \n",
    "You have to implements Insertion Sort algorithm."
   ]
  },
  {
   "cell_type": "code",
   "execution_count": 5,
   "metadata": {},
   "outputs": [],
   "source": [
    "## Your implementation here!!!\n",
    "\n",
    "def InsertionSort(coll):\n",
    "    A=[]\n",
    "    for elem in coll:\n",
    "        A.append(elem)\n",
    "    \n",
    "    for i in range(1, len(A)):\n",
    "        key= A[i]\n",
    "        j= i-1\n",
    "        while j >= 0 and  key < A[j]:\n",
    "            A[j+1] = A[j]\n",
    "            j-= 1\n",
    "        A[j+1] = key\n",
    "    return A\n"
   ]
  },
  {
   "cell_type": "code",
   "execution_count": 6,
   "metadata": {},
   "outputs": [
    {
     "name": "stdout",
     "output_type": "stream",
     "text": [
      "[0, 0, 0, 1, 1, 2, 7, 11, 11, 24, 26, 28, 31, 39, 40, 45, 46, 48, 48, 50]\n",
      "[-38, -3, 7, 14, 15]\n"
     ]
    }
   ],
   "source": [
    "lista2 = get_random_array(20)\n",
    "print(InsertionSort(lista2))\n",
    "\n",
    "lista3=(7,14,-3,15,-38)\n",
    "print(InsertionSort(lista3))"
   ]
  },
  {
   "cell_type": "code",
   "execution_count": 7,
   "metadata": {},
   "outputs": [
    {
     "name": "stdout",
     "output_type": "stream",
     "text": [
      "[0, 1, 2, 3, 4, 5, 6, 7, 8, 9]\n"
     ]
    }
   ],
   "source": [
    "## Check correctdness your implementation!\n",
    "\n",
    "my_list = list(range(10))[::-1]\n",
    "\n",
    "print(InsertionSort(my_list))\n",
    "\n",
    "assert test_sortedness( InsertionSort(my_list) ), \"Must be increasing!\""
   ]
  },
  {
   "cell_type": "markdown",
   "metadata": {},
   "source": [
    "----\n",
    "### Exercise: Strange orderings\n",
    "Given a list, write and test comparators to obtain the following orderings:\n",
    "- Even number precede odd ones. Even numbers are sorted in non-decreasing  order while odd ones are sorted in non-increasing order.\n",
    "- Strings are sorted in non-increasing order based on their lengths. Strings having the same length are sorted in non-increasing lexicographic order. "
   ]
  },
  {
   "cell_type": "code",
   "execution_count": 8,
   "metadata": {},
   "outputs": [
    {
     "name": "stdout",
     "output_type": "stream",
     "text": [
      "[9, 8, 7, 6, 5, 4, 3, 2, 1, 0]\n"
     ]
    }
   ],
   "source": [
    "import functools\n",
    "def my_cmp(a, b): \n",
    "    return b-a \n",
    "print( sorted(list(range(10)), key=functools.cmp_to_key(my_cmp)) )"
   ]
  },
  {
   "cell_type": "code",
   "execution_count": 9,
   "metadata": {},
   "outputs": [],
   "source": [
    "my_list = list(range(10))\n",
    "my_list2 = [\"a\", \"b\", \"aba\", \"cad\", \"zzzz\", \"aaaa\"]"
   ]
  },
  {
   "cell_type": "code",
   "execution_count": 10,
   "metadata": {},
   "outputs": [],
   "source": [
    "## Your implementation here!!!\n",
    "def cmp1(a,b):\n",
    "    if a%2 ==0 :\n",
    "        if b%2 ==0 : \n",
    "            return a-b #se a è pari e b è pari= a prima di b\n",
    "        else:\n",
    "            return -1 #se a è pari e b dispari= ordine crescente\n",
    "        \n",
    "    else:\n",
    "        if b%2 !=0:\n",
    "            return b-a #se a è disp e b è disp= ordine decresce\n",
    "        else:\n",
    "            return 1   #se a è disp e b è pari= a prima di b \n"
   ]
  },
  {
   "cell_type": "code",
   "execution_count": 11,
   "metadata": {},
   "outputs": [
    {
     "name": "stdout",
     "output_type": "stream",
     "text": [
      "[0, 2, 4, 6, 8, 9, 7, 5, 3, 1]\n"
     ]
    }
   ],
   "source": [
    "print(sorted(my_list, key=functools.cmp_to_key(cmp1)))"
   ]
  },
  {
   "cell_type": "code",
   "execution_count": 12,
   "metadata": {},
   "outputs": [],
   "source": [
    "def cmp2(a,b):\n",
    "    if len(a)==len(b): \n",
    "        if a>b:\n",
    "            return -1 #ordine alfabetico crescente\n",
    "        else: \n",
    "            return 1  #ordine alfabetico decrescente\n",
    "    else:\n",
    "        return len(b)-len(a) #se NON sono della stessa lunghezza: \n",
    "    #prima le parole più lunghe e poi quelle più corte\n",
    "   "
   ]
  },
  {
   "cell_type": "code",
   "execution_count": 13,
   "metadata": {},
   "outputs": [
    {
     "name": "stdout",
     "output_type": "stream",
     "text": [
      "[0, 2, 4, 6, 8, 9, 7, 5, 3, 1]\n",
      "['zzzz', 'aaaa', 'cad', 'abc', 'aba', 'b', 'a']\n"
     ]
    }
   ],
   "source": [
    "print(sorted(my_list, key=functools.cmp_to_key(cmp1)))\n",
    "my_list3 =  [\"a\", \"aba\",\"b\", \"cad\",'abc', \"zzzz\", \"aaaa\"]\n",
    "print(sorted(my_list3, key = functools.cmp_to_key(cmp2)))"
   ]
  },
  {
   "cell_type": "markdown",
   "metadata": {},
   "source": [
    "-----\n",
    "### Exercise: Insertion Sort with a comparator\n",
    "Write the function ```InsertionSort(coll, cmp)``` that returns a sorted list with the elements in *coll* using \n",
    "```cmp```as a comparator."
   ]
  },
  {
   "cell_type": "code",
   "execution_count": 14,
   "metadata": {},
   "outputs": [],
   "source": [
    "def cmp(a,b):\n",
    "    return a-b "
   ]
  },
  {
   "cell_type": "code",
   "execution_count": 15,
   "metadata": {},
   "outputs": [],
   "source": [
    "## Your implementation here!!!\n",
    "\n",
    "def InsertionSort_new(coll,cmp):\n",
    "    A=[]\n",
    "    for elem in coll:\n",
    "        A.append(elem)\n",
    "    \n",
    "    for i in range(1, len(A)):\n",
    "        key= A[i]\n",
    "        j= i-1\n",
    "        while j >= 0 and  cmp(key,A[j])<0: #il return value è negativo se a<b\n",
    "            A[j+1] = A[j]\n",
    "            j-= 1\n",
    "        A[j+1] = key\n",
    "    return A\n"
   ]
  },
  {
   "cell_type": "code",
   "execution_count": 16,
   "metadata": {},
   "outputs": [],
   "source": [
    "## Test here your implementation by using comparators from previous exercise.\n",
    "\n",
    "def test_sortedness(my_list, cmp):\n",
    "    return InsertionSort_new(my_list, cmp) == sorted(my_list, key = functools.cmp_to_key(cmp))\n",
    "\n",
    "assert test_sortedness(my_list, cmp1), \"Must be sorted\"\n",
    "assert test_sortedness(my_list2, cmp2), \"Must be sorted\""
   ]
  },
  {
   "cell_type": "markdown",
   "metadata": {},
   "source": [
    "-----\n",
    "\n",
    "### Exercise: Intersection of two lists\n",
    "Write a function ```intersection_slow(l1, l2)``` which returns the intersection of the two lists l1 and l2.\n",
    "\n",
    "Use the trivial algorithms that runs in $\\Theta(|l1|\\times|l2|)$. "
   ]
  },
  {
   "cell_type": "code",
   "execution_count": 17,
   "metadata": {},
   "outputs": [
    {
     "name": "stdout",
     "output_type": "stream",
     "text": [
      "[1, 2]\n"
     ]
    }
   ],
   "source": [
    "## Your implementation here!!!\n",
    "def intersection_slow(l1, l2):\n",
    "    l3=[]\n",
    "    for i in l1:\n",
    "        for j in l2:\n",
    "            if i==j:\n",
    "                l3.append(i)\n",
    "    return l3\n",
    "l1 = [3, 5, 1, 2]\n",
    "l2 = [1, 4, 6, 2]\n",
    "print(intersection_slow(l1,l2))"
   ]
  },
  {
   "cell_type": "code",
   "execution_count": 18,
   "metadata": {},
   "outputs": [],
   "source": [
    "## Test here your implementation \n",
    "\n",
    "l1 = [3, 5, 1, 2]\n",
    "l2 = [1, 4, 6, 2]\n",
    "\n",
    "assert set(intersection_slow(l1, l2)) == set([1, 2]), \"Urca\""
   ]
  },
  {
   "cell_type": "markdown",
   "metadata": {},
   "source": [
    "----\n",
    "### Exercise: Faster intersection of two lists\n",
    "Write a function ```intersection(l1, l2)``` which returns the intersection of the two lists l1 and l2.\n",
    "\n",
    "Assume that both l1 and l2 are sorted!"
   ]
  },
  {
   "cell_type": "code",
   "execution_count": 19,
   "metadata": {},
   "outputs": [],
   "source": [
    "## Your implementation here!!!\n",
    "\n",
    "def intersection(l1, l2):\n",
    "    i=0\n",
    "    j=0\n",
    "    l3=[]\n",
    "    while i<len(l1) and j<len(l2):\n",
    "        if l1[i]==l2[j]:\n",
    "            l3.append(l1[i])\n",
    "            i+=1\n",
    "            j+=1\n",
    "        elif l1[i]<l2[j]:\n",
    "            i+=1\n",
    "        else:\n",
    "            j+=1\n",
    "    return l3"
   ]
  },
  {
   "cell_type": "code",
   "execution_count": 20,
   "metadata": {},
   "outputs": [
    {
     "name": "stdout",
     "output_type": "stream",
     "text": [
      "[1, 2, 5]\n"
     ]
    }
   ],
   "source": [
    "l1 = [3, 5, 1, 2,5]\n",
    "l2 = [1, 4, 6, 2,5]\n",
    "l1=sorted(l1)\n",
    "l2=sorted(l2)\n",
    "print(intersection(l1,l2))"
   ]
  },
  {
   "cell_type": "code",
   "execution_count": 21,
   "metadata": {},
   "outputs": [],
   "source": [
    "## Test here your implementation \n",
    "\n",
    "l1 = sorted([3, 5, 1, 2])\n",
    "l2 = sorted([1, 4, 6, 2])\n",
    "\n",
    "assert set(intersection(l1, l2)) == set([1, 2]), \"Urca\""
   ]
  },
  {
   "cell_type": "markdown",
   "metadata": {},
   "source": [
    "----\n",
    "### Exercise: You own search engine\n",
    "You are given a collection of texts and you want to build your own search engine, people at Google are already very scared!\n",
    "\n",
    "Modern search engines are based on a data structure called *Inverted Index*. \n",
    "\n",
    "Each document of the collection is assigned an identifier, starting from 0.\n",
    "An inverted index stores a list, called *inverted list*, for each term of the collection.\n",
    "The list for a term *t* contains the identifiers of all the documents containing term *t*. The list is sorted.\n",
    "\n",
    "For example,\n",
    "\n",
    "````\n",
    "C = [\"dog cat elephant monkey\",  \"dog lion tiger\", \"fish dog dog cat cow\"]\n",
    "\n",
    "````\n",
    "\n",
    "The list of term *cat* is [0,2], the list of *elephant* is [0].\n",
    "\n",
    "Given two terms, an AND query reports all the documents containing both terms. For example, \n",
    "*query(\"cat\", \"dog\"), the result is [0, 2].\n",
    "\n",
    "You goal is to implement a simple search engine. Do the following. \n",
    "\n",
    "- Given the collection, build a dictionary that maps each term to its inverted list. Observe that \n",
    "each document occurs at most once in each list. \n",
    "- Implement a function *query* which answers an AND query. "
   ]
  },
  {
   "cell_type": "code",
   "execution_count": 22,
   "metadata": {},
   "outputs": [
    {
     "name": "stdout",
     "output_type": "stream",
     "text": [
      "[0, 2]\n"
     ]
    }
   ],
   "source": [
    "## Your implementation here!!!\n",
    "\n",
    "def build_index(C):\n",
    "    index = {}\n",
    "    for i in range(len(C)):\n",
    "        C[i]=set(C[i].split()) #creo un set per ogni stringa, composto dalle singole parole\n",
    "        #print(C[i])\n",
    "        \n",
    "    for i in range(len(C)):\n",
    "        for parola in C[i]:\n",
    "            if parola in index:\n",
    "                index[parola].append(i) #appendo la posizione\n",
    "            else:                       \n",
    "                index[parola]=[]        #se la parola non è nell'index creao la lista\n",
    "                index[parola].append(i) #appendo la posizione\n",
    "    return index\n",
    "\n",
    "def query(index, t1, t2):\n",
    "    intersezione = intersection(index[t1], index[t2])\n",
    "    return intersezione\n",
    "\n",
    "\n",
    "C = [\"dog cat elephant monkey\",  \"dog lion tiger\", \"fish dog dog cat cow\"]\n",
    "\n",
    "index=(build_index(C))\n",
    "#print(index)\n",
    "print(query(index,\"cat\", \"dog\"))"
   ]
  },
  {
   "cell_type": "code",
   "execution_count": 23,
   "metadata": {},
   "outputs": [],
   "source": [
    "## Test here your implementation \n",
    "\n",
    "C = [\"dog cat elephant monkey\",  \"dog lion tiger\", \"fish dog dog cat cow\"]\n",
    "\n",
    "index = build_index(C)\n",
    "assert query(index, \"cat\", \"dog\") == [0, 2], \"Urca\""
   ]
  },
  {
   "cell_type": "code",
   "execution_count": null,
   "metadata": {},
   "outputs": [],
   "source": []
  },
  {
   "cell_type": "code",
   "execution_count": 24,
   "metadata": {},
   "outputs": [],
   "source": [
    "## Define some function useful for testing\n",
    "import random\n",
    "\n",
    "## generate an array of n random integers up to 10000\n",
    "def get_random_array(n):\n",
    "    return [random.randint(0, 10000) for _ in range(n)]\n",
    "\n",
    "def test_sorting_algorithm(algorithm):\n",
    "    for _ in range(100):\n",
    "        A = get_random_array(random.randint(0, 1000))\n",
    "        A_sorted = algorithm(A)\n",
    "        assert A_sorted == sorted(A), \"FAIL!\"\n",
    "        \n",
    "# testing testing function\n",
    "test_sorting_algorithm(sorted)"
   ]
  },
  {
   "cell_type": "markdown",
   "metadata": {},
   "source": [
    "----\n",
    "# Lecture 2\n",
    "---\n",
    "### Exercise: Binary Vector\n",
    "You are given a binary vector, i.e., each element is either 0 or 1. Implements an easy variant of partition to sort the vector.\n"
   ]
  },
  {
   "cell_type": "code",
   "execution_count": 25,
   "metadata": {},
   "outputs": [
    {
     "name": "stdout",
     "output_type": "stream",
     "text": [
      "[1, 1, 0, 0, 1, 0, 1, 0, 1, 0, 0, 0, 0, 1, 1, 1, 1, 0, 0, 1]\n"
     ]
    }
   ],
   "source": [
    "import random \n",
    "\n",
    "binary = [random.randint(0,1) for _ in range(20)]\n",
    "print(binary)"
   ]
  },
  {
   "cell_type": "code",
   "execution_count": 26,
   "metadata": {},
   "outputs": [],
   "source": [
    "## Your implementation goes here\n",
    "def binary_partition(A,p,r): \n",
    "    i = p-1 \n",
    "  \n",
    "    for j in range(p,r): \n",
    "        if A[j] == 0: \n",
    "            i = i+1 \n",
    "            A[i], A[j] = A[j], A[i] \n",
    "  \n",
    "    A[i+1], A[r] = A[r], A[i+1] \n",
    "    return A"
   ]
  },
  {
   "cell_type": "code",
   "execution_count": 27,
   "metadata": {},
   "outputs": [
    {
     "data": {
      "text/plain": [
       "[0, 0, 0, 0, 0, 0, 0, 0, 0, 0, 1, 1, 1, 1, 1, 1, 1, 1, 1, 1]"
      ]
     },
     "execution_count": 27,
     "metadata": {},
     "output_type": "execute_result"
    }
   ],
   "source": [
    "binary_partition(binary, 0, len(binary)-1)"
   ]
  },
  {
   "cell_type": "markdown",
   "metadata": {},
   "source": [
    "\n",
    "---\n",
    "### Exercise: QuickSort\n",
    "Below an implementation of QuickSort. \n",
    "\n",
    "In this exercise you have to:\n",
    "- Write detailed comments to describe crucial parts of the code below (to prove you have understand it)\n",
    "- Implement a random selection of the pivot element"
   ]
  },
  {
   "cell_type": "code",
   "execution_count": 28,
   "metadata": {},
   "outputs": [],
   "source": [
    "def partition(A, low, high): \n",
    "    randompivot=random.randint(low, high)\n",
    "    A[randompivot], A[high] = A[high], A[randompivot]\n",
    "    pivot = A[high]  #seleziono un pivot, che corrisponde (in questo caso) ad un pivot casuale\n",
    "    i = low-1        #definisco il puntatore i che parte un elemento prima dell'inizio dell'array\n",
    "    \n",
    "\n",
    "    for j in range(low, high): #altro puntatore\n",
    "        if A[j] <= pivot:      #se l'elemento corrente è < del valore pivot\n",
    "            i = i+1            #spostiamo avanti di un posto il primo puntatore\n",
    "            A[i], A[j] = A[j], A[i]  #swap tra il valore più grande e più piccolo del pivot\n",
    "            #in modo da avere a sinistra elementi < del pivot e a destra elementi > del pivot\n",
    "  \n",
    "    A[i+1], A[high] = A[high], A[i+1] #sposto il pivot al centro, mettendo all'ultimo posto un elemento che era maggiore\n",
    "    return i+1 #ritorno il pivot(che adesso si trova al centro dell'array)"
   ]
  },
  {
   "cell_type": "code",
   "execution_count": 29,
   "metadata": {},
   "outputs": [],
   "source": [
    "def quickSort_rec(A, low, high):\n",
    "    if low < high: #se p<r (cioè non abbiamo un solo elemento o zero elementi nll'array)\n",
    "        pi = partition(A, low, high) #creiamo un pivot e mettiamo alla sua sinistra gli elementi più piccoli e alla sua destra quelli più grandi\n",
    "        quickSort_rec(A, low, pi-1)  #applichiamo ricorsivamente l'algoritmo nella parte sinitra\n",
    "        quickSort_rec(A, pi+1, high) #applichiamo ricorsivamente l'algoritmo nella parte destra"
   ]
  },
  {
   "cell_type": "code",
   "execution_count": 30,
   "metadata": {},
   "outputs": [],
   "source": [
    "def quickSort(B):\n",
    "    A = B[:] # Copy the array just because we decided to return a sorted copy of the original array \n",
    "    quickSort_rec(A, 0, len(A)-1)\n",
    "    return A"
   ]
  },
  {
   "cell_type": "code",
   "execution_count": 31,
   "metadata": {},
   "outputs": [
    {
     "data": {
      "text/plain": [
       "[1, 2, 3, 4]"
      ]
     },
     "execution_count": 31,
     "metadata": {},
     "output_type": "execute_result"
    }
   ],
   "source": [
    "quickSort([2, 1, 4, 3])"
   ]
  },
  {
   "cell_type": "code",
   "execution_count": 32,
   "metadata": {},
   "outputs": [],
   "source": [
    "test_sorting_algorithm(quickSort)"
   ]
  },
  {
   "cell_type": "markdown",
   "metadata": {},
   "source": [
    "----\n",
    "### Exercise: Merge Sort\n",
    "Complete the implementation of Merge Sort by implementing function ```merge()```."
   ]
  },
  {
   "cell_type": "code",
   "execution_count": 33,
   "metadata": {},
   "outputs": [],
   "source": [
    "## Your implementation goes here\n",
    "\n",
    "def merge(A, p, q, r):\n",
    "    n1= q-p+1\n",
    "    n2= r-q\n",
    "    \n",
    "    L=[0]*n1\n",
    "    R=[0]*n2\n",
    "    \n",
    "    for i in range(0,n1):\n",
    "        L[i]=A[p+i]\n",
    "    for j in range(0,n2):\n",
    "        R[j]=A[q+j+1]\n",
    "    \n",
    "    i=0\n",
    "    j=0\n",
    "    k=p\n",
    "    \n",
    "    while i < n1 and j < n2 : \n",
    "        if L[i] <= R[j]: \n",
    "            A[k] = L[i] \n",
    "            i += 1\n",
    "        else: \n",
    "            A[k] = R[j] \n",
    "            j += 1\n",
    "        k += 1\n",
    "  \n",
    "    while i < n1: \n",
    "        A[k] = L[i] \n",
    "        i += 1\n",
    "        k += 1\n",
    "  \n",
    "    while j < n2: \n",
    "        A[k] = R[j] \n",
    "        j += 1\n",
    "        k += 1\n",
    "  "
   ]
  },
  {
   "cell_type": "code",
   "execution_count": 34,
   "metadata": {},
   "outputs": [],
   "source": [
    "def mergeSort_rec(A, l, r): \n",
    "    \n",
    "    if l < r:       \n",
    "        m = (l+(r-1))//2  # Same as (l+r)//2, but avoids overflow for large l and h \n",
    "    \n",
    "        # Sort first and second halves \n",
    "        mergeSort_rec(A, l, m) \n",
    "        mergeSort_rec(A, m+1, r) \n",
    "        merge(A, l, m, r)"
   ]
  },
  {
   "cell_type": "code",
   "execution_count": 35,
   "metadata": {},
   "outputs": [],
   "source": [
    "def mergeSort(B):\n",
    "    A = B[:] # Copy the array just because we decided to return a sorted copy of the original array \n",
    "    mergeSort_rec(A, 0, len(A)-1)\n",
    "    return A"
   ]
  },
  {
   "cell_type": "code",
   "execution_count": 36,
   "metadata": {},
   "outputs": [
    {
     "data": {
      "text/plain": [
       "[4, 15, 20, 33, 86, 150]"
      ]
     },
     "execution_count": 36,
     "metadata": {},
     "output_type": "execute_result"
    }
   ],
   "source": [
    "mergeSort([15, 150, 20, 4, 86, 33])  "
   ]
  },
  {
   "cell_type": "code",
   "execution_count": 37,
   "metadata": {},
   "outputs": [],
   "source": [
    "test_sorting_algorithm(mergeSort)"
   ]
  },
  {
   "cell_type": "markdown",
   "metadata": {},
   "source": [
    "----\n",
    "# Lecture 3\n",
    "----\n",
    "### Exercise: Activity Selection Problem\n",
    "Activity selection problem is a problem in which a person has a list of works to do. \n",
    "\n",
    "Each of the activities has a starting time and ending time. \n",
    "\n",
    "We need to schedule the activities in such a way the person can complete a maximum number of activities. \n",
    "\n",
    "Since the timing of the activities  may overlap, so it might not be possible to complete all the activities and thus we need to schedule the activities in such a way that the maximum number of activities can be finished."
   ]
  },
  {
   "cell_type": "code",
   "execution_count": 38,
   "metadata": {},
   "outputs": [],
   "source": [
    "## Your implementation goes here\n",
    "L=[(4,6),(0,2),(1,3),(1,6),(3,4)]\n",
    "\n",
    "def activity_selection(L):\n",
    "    L.sort(key = lambda x :x[1])\n",
    "    \n",
    "    \n",
    "    new_L = [L[0]]            #la prima attività è sempre contenuta nella nuova lista\n",
    "    pt = 0                    #creo un puntatore\n",
    "    for i in range(1, len(L)):#per ogni tupla che si trova in L, che però parte da 1 e non da zero (cioè parto dalla seconda attività della lista)\n",
    "        if (L[i][0]) >= (new_L [pt][1]): #se tempo di inizio dell'attività corrente è >= al tempo di fine dell'attività che la precede \n",
    "            new_L .append(L[i])#metto l'attività nella lista\n",
    "            pt += 1 \n",
    "    return new_L \n",
    "    "
   ]
  },
  {
   "cell_type": "code",
   "execution_count": 39,
   "metadata": {},
   "outputs": [
    {
     "name": "stdout",
     "output_type": "stream",
     "text": [
      "[(0, 2), (3, 4), (4, 6)]\n"
     ]
    }
   ],
   "source": [
    "print(activity_selection(L))"
   ]
  },
  {
   "cell_type": "code",
   "execution_count": 40,
   "metadata": {},
   "outputs": [],
   "source": [
    "## Test your implementation here\n",
    "L=[(4,6),(0,2),(1,3),(1,6),(3,4)]\n",
    "assert activity_selection(L) == [(0, 2), (3, 4), (4, 6)], \"Fail!\""
   ]
  },
  {
   "cell_type": "markdown",
   "metadata": {},
   "source": [
    "----\n",
    "### Exercise: Fractional Knapsack Problem\n",
    "\n",
    "Your goal: Write a function fractional_knapsack(L,W) which takes a list L of pairs (value, weight) and the capacity  𝑊  and returns maximum possible value we can obtain by selecting items."
   ]
  },
  {
   "cell_type": "code",
   "execution_count": 41,
   "metadata": {},
   "outputs": [],
   "source": [
    "## Your implementation goes here\n",
    "L = [(60, 10), (100, 20), (120, 30)]\n",
    "\n",
    "def fractional_knapsack(L,W):\n",
    "    L.sort(reverse = True, key = lambda x : x[0]/x[1]) #ordine decrescente rispetto al valore/peso\n",
    "    #print(L)\n",
    "    \n",
    "    max_value = 0\n",
    "    capacity = 0\n",
    "    i = 0\n",
    "    \n",
    "    \n",
    "    while capacity <= W and i < len(L): #i<len(L)= controllo fino al penultimo elemento\n",
    "        max_value += L[i][0] #aggiungo v intero\n",
    "        capacity += L[i][1] #aggiungo w interno\n",
    "        i += 1\n",
    "    if capacity == W:\n",
    "        return max_value\n",
    "    else:\n",
    "        frazione=(W-capacity)/L[i-1][1]  #L[i-1][1]= ultimo elemento--> (50-30)/30 =20/30 \n",
    "        max_value+= L[i-1][0]*frazione  #30*(2/3)\n",
    "        return max_value"
   ]
  },
  {
   "cell_type": "code",
   "execution_count": 42,
   "metadata": {},
   "outputs": [
    {
     "name": "stdout",
     "output_type": "stream",
     "text": [
      "240.0\n"
     ]
    }
   ],
   "source": [
    "print(fractional_knapsack(L,50))"
   ]
  },
  {
   "cell_type": "code",
   "execution_count": 43,
   "metadata": {},
   "outputs": [],
   "source": [
    "## Test your implementation here\n",
    "\n",
    "L = [(60, 10), (100, 20), (120, 30)]\n",
    "\n",
    "assert fractional_knapsack(L, 50) == 240.0, \"Fail!\"\n",
    "\n",
    "L = [(30, 5), (40, 10), (45, 15), (77, 22), (90, 25)]\n",
    "\n",
    "assert fractional_knapsack(L, 60) == 230.0, \"Fail!\"\n",
    "\n",
    "assert fractional_knapsack(L, 15) == 70.0,  \"Fail!\"\n",
    "\n",
    "assert fractional_knapsack(L, 10) == 50.0,  \"Fail!\""
   ]
  },
  {
   "cell_type": "markdown",
   "metadata": {},
   "source": [
    "----\n",
    "# Lecture 4\n",
    "\n",
    "----\n",
    "\n",
    "### Exercise: K-largest elements of a array\n",
    "\n",
    "We want to compute the K-largest elements of a array A. \n",
    "\n",
    "There are three possible algorithms to solve this problem:\n",
    "\n",
    "\n",
    "#### Algorithm 1: Sorting\n",
    "The easiest way to solve this is by sorting the array in decreasing order and reporting the first K elements. \n",
    "\n",
    "This algorithm costs $\\Theta(n\\log n)$ time. \n",
    "\n",
    "Implement this algorithm in a function ```k_largest_sort(A, K)```and test its correctness.\n",
    "\n",
    "#### Algorithm 2: QuickSelect\n",
    "Implement the QuickSelect algorithm and use it to find the K-largest element E in the array A. Then, scan A again \n",
    "to collect the K elements larger than or equal to E. Finally, sort the collected elements.\n",
    "\n",
    "This algorithm costs $\\Theta(n + K\\log K)$ time (in expectation). \n",
    "\n",
    "Implement this algorithm in a function ```k_largest_quickselect(A, K)```and test its correctness.\n",
    "\n",
    "\n",
    "#### Algorithm 3: Heap\n",
    "You have to implement the following faster algorithm as a function ```k_largest(A,K)```.\n",
    "- Scan the array from left to right and keep a min-heap. The min-heap will contain at most K elements.\n",
    "- Insert the current element into the heap, if the heap has less than K elements or the current element is larger than the minimum in the heap. If the heap has more than K elements, remove the minimum. \n",
    "- Sort the collected elements.\n",
    "\n",
    "This algorithm runs in $\\Theta(n\\log K)$ time.\n",
    "\n",
    "Implement this algorithm in a function ```k_largest_heap(A, K)```and test its correctness."
   ]
  },
  {
   "cell_type": "code",
   "execution_count": 44,
   "metadata": {},
   "outputs": [],
   "source": [
    "### Algorithm 1 goes here\n",
    "def k_largest_sort(A, K):\n",
    "    A.sort(reverse=True)\n",
    "    return A[0:K]"
   ]
  },
  {
   "cell_type": "code",
   "execution_count": 45,
   "metadata": {},
   "outputs": [
    {
     "data": {
      "text/plain": [
       "[44, 12, 11, 8]"
      ]
     },
     "execution_count": 45,
     "metadata": {},
     "output_type": "execute_result"
    }
   ],
   "source": [
    "A=[7,8,12,4,5,44,11,1]\n",
    "K = 4\n",
    "k_largest_sort(A,K) "
   ]
  },
  {
   "cell_type": "code",
   "execution_count": null,
   "metadata": {},
   "outputs": [],
   "source": []
  },
  {
   "cell_type": "code",
   "execution_count": 46,
   "metadata": {},
   "outputs": [],
   "source": [
    "### Algorithm 2 goes here\n",
    "def Select_randompivot(A,low,high):\n",
    "    randompivot=random.randint(low,high)\n",
    "    A[low],A[randompivot]=A[randompivot],A[low]\n",
    "    \n",
    "    return partition(A,low,high)"
   ]
  },
  {
   "cell_type": "code",
   "execution_count": 47,
   "metadata": {},
   "outputs": [
    {
     "name": "stdout",
     "output_type": "stream",
     "text": [
      "8\n"
     ]
    }
   ],
   "source": [
    "import random\n",
    "\n",
    "def partition(A, low, high): \n",
    "    pivot = A[high]  \n",
    "    i = low-1       \n",
    "    \n",
    "\n",
    "    for j in range(low, high): \n",
    "        if A[j] >= pivot:      \n",
    "            i = i+1            \n",
    "            A[i], A[j] = A[j], A[i]  \n",
    "  \n",
    "    A[i+1], A[high] = A[high], A[i+1] \n",
    "    return i+1\n",
    "\n",
    "def QuickSelect(A, i, p, r):\n",
    "    if p == r:\n",
    "        return A[p]\n",
    "\n",
    "    pivot = Select_randompivot(A,p,r)\n",
    "    k = pivot - p + 1\n",
    "    if i == k:\n",
    "        return A[pivot]\n",
    "    if i < k:\n",
    "        return QuickSelect(A, i, p, pivot-1)\n",
    "    else:\n",
    "        return QuickSelect(A, i-k, pivot+1, r)\n",
    "\n",
    "    \n",
    "\n",
    "def k_largest_quickselect(A, K):\n",
    "    n_A = []\n",
    "    E = QuickSelect(A, K, 0, len(A)-1 )\n",
    "    i=0\n",
    "    while i<len(A):\n",
    "        if A[i] >= E:   #se l'elemento è maggiore del K-esimo elemento più grande\n",
    "            n_A.append(A[i])\n",
    "        i+=1\n",
    "    return sorted(n_A)    \n",
    "\n",
    "print(QuickSelect(A, K, 0, len(A)-1 ))"
   ]
  },
  {
   "cell_type": "code",
   "execution_count": 48,
   "metadata": {},
   "outputs": [
    {
     "data": {
      "text/plain": [
       "[11, 12, 44]"
      ]
     },
     "execution_count": 48,
     "metadata": {},
     "output_type": "execute_result"
    }
   ],
   "source": [
    "A=[7,8,12,4,5,44,11,1]\n",
    "K = 3\n",
    "k_largest_quickselect(A,K) "
   ]
  },
  {
   "cell_type": "code",
   "execution_count": null,
   "metadata": {},
   "outputs": [],
   "source": []
  },
  {
   "cell_type": "code",
   "execution_count": 49,
   "metadata": {},
   "outputs": [],
   "source": [
    "### Algorithm 3 goes here\n",
    "import heapq\n",
    "\n",
    "def k_largest_heap(A, K):\n",
    "    minH= []\n",
    "    for i in A:\n",
    "        if (len(minH) <= K) or (i > minH[0]):\n",
    "            heapq.heappush(minH, i)\n",
    "        if len(minH) > K:\n",
    "            heapq.heappop(minH)\n",
    "    return sorted(minH)"
   ]
  },
  {
   "cell_type": "code",
   "execution_count": 50,
   "metadata": {},
   "outputs": [
    {
     "data": {
      "text/plain": [
       "[8, 11, 12, 44]"
      ]
     },
     "execution_count": 50,
     "metadata": {},
     "output_type": "execute_result"
    }
   ],
   "source": [
    "A=[7,8,12,4,5,44,11,1]\n",
    "K = 4\n",
    "k_largest_heap(A,K) "
   ]
  },
  {
   "cell_type": "code",
   "execution_count": 51,
   "metadata": {},
   "outputs": [],
   "source": [
    "## Define some function useful for testing\n",
    "import random\n",
    "\n",
    "## generate an array of n random integers up to b\n",
    "def get_random_array(n, b = 50):\n",
    "    return [random.randint(0, b) for _ in range(n)]"
   ]
  },
  {
   "cell_type": "code",
   "execution_count": 52,
   "metadata": {},
   "outputs": [],
   "source": [
    "## test your implementation\n",
    "a = get_random_array(1000, 10000)\n",
    "\n",
    "assert sorted(k_largest_sort(a, 10)) == sorted(a)[-10:], \"FAIL!\"  \n",
    "assert sorted(k_largest_quickselect(a, 10)) == sorted(a)[-10:], \"FAIL!\"  \n",
    "assert sorted(k_largest_heap(a, 10)) == sorted(a)[-10:], \"FAIL!\"  "
   ]
  },
  {
   "cell_type": "code",
   "execution_count": 53,
   "metadata": {},
   "outputs": [
    {
     "name": "stdout",
     "output_type": "stream",
     "text": [
      "245 µs ± 6.49 µs per loop (mean ± std. dev. of 7 runs, 1000 loops each)\n",
      "The slowest run took 5.67 times longer than the fastest. This could mean that an intermediate result is being cached.\n",
      "2.4 s ± 1.35 s per loop (mean ± std. dev. of 7 runs, 1 loop each)\n",
      "18.2 ms ± 174 µs per loop (mean ± std. dev. of 7 runs, 10 loops each)\n"
     ]
    }
   ],
   "source": [
    "a = get_random_array(50000, 100)\n",
    "K = 10\n",
    "\n",
    "%timeit k_largest_sort(a, K)\n",
    "%timeit k_largest_quickselect(a, K)\n",
    "%timeit k_largest_heap(a, K)"
   ]
  },
  {
   "cell_type": "code",
   "execution_count": 54,
   "metadata": {},
   "outputs": [
    {
     "name": "stdout",
     "output_type": "stream",
     "text": [
      "24.6 µs ± 347 ns per loop (mean ± std. dev. of 7 runs, 10000 loops each)\n",
      "30.4 ms ± 7.64 ms per loop (mean ± std. dev. of 7 runs, 10 loops each)\n",
      "2.02 ms ± 26.8 µs per loop (mean ± std. dev. of 7 runs, 100 loops each)\n"
     ]
    }
   ],
   "source": [
    "a = get_random_array(5000, 100)\n",
    "K = 10\n",
    "\n",
    "%timeit k_largest_sort(a, K)\n",
    "%timeit k_largest_quickselect(a, K)\n",
    "%timeit k_largest_heap(a, K)"
   ]
  },
  {
   "cell_type": "code",
   "execution_count": 55,
   "metadata": {},
   "outputs": [
    {
     "name": "stdout",
     "output_type": "stream",
     "text": [
      "612 ns ± 3.45 ns per loop (mean ± std. dev. of 7 runs, 1000000 loops each)\n",
      "92.6 µs ± 395 ns per loop (mean ± std. dev. of 7 runs, 10000 loops each)\n",
      "17.2 µs ± 639 ns per loop (mean ± std. dev. of 7 runs, 100000 loops each)\n"
     ]
    }
   ],
   "source": [
    "a = get_random_array(50, 100)\n",
    "K = 10\n",
    "\n",
    "%timeit k_largest_sort(a, K)\n",
    "%timeit k_largest_quickselect(a, K)\n",
    "%timeit k_largest_heap(a, K)"
   ]
  },
  {
   "cell_type": "code",
   "execution_count": 56,
   "metadata": {},
   "outputs": [
    {
     "name": "stdout",
     "output_type": "stream",
     "text": [
      "377 ns ± 25.6 ns per loop (mean ± std. dev. of 7 runs, 1000000 loops each)\n",
      "7.6 µs ± 474 ns per loop (mean ± std. dev. of 7 runs, 100000 loops each)\n",
      "1.7 µs ± 38.2 ns per loop (mean ± std. dev. of 7 runs, 1000000 loops each)\n"
     ]
    }
   ],
   "source": [
    "a = get_random_array(5, 100)\n",
    "K = 1\n",
    "\n",
    "%timeit k_largest_sort(a, K)\n",
    "%timeit k_largest_quickselect(a, K)\n",
    "%timeit k_largest_heap(a, K)"
   ]
  },
  {
   "cell_type": "code",
   "execution_count": 57,
   "metadata": {},
   "outputs": [
    {
     "name": "stdout",
     "output_type": "stream",
     "text": [
      "374 ns ± 5.68 ns per loop (mean ± std. dev. of 7 runs, 1000000 loops each)\n",
      "4.68 µs ± 114 ns per loop (mean ± std. dev. of 7 runs, 100000 loops each)\n",
      "1.43 µs ± 12.6 ns per loop (mean ± std. dev. of 7 runs, 1000000 loops each)\n"
     ]
    }
   ],
   "source": [
    "a = get_random_array(5, 100)\n",
    "K = 5\n",
    "\n",
    "%timeit k_largest_sort(a, K)\n",
    "%timeit k_largest_quickselect(a, K)\n",
    "%timeit k_largest_heap(a, K)"
   ]
  },
  {
   "cell_type": "code",
   "execution_count": 58,
   "metadata": {},
   "outputs": [
    {
     "name": "stdout",
     "output_type": "stream",
     "text": [
      "666 ns ± 5.09 ns per loop (mean ± std. dev. of 7 runs, 1000000 loops each)\n",
      "113 µs ± 9.96 µs per loop (mean ± std. dev. of 7 runs, 10000 loops each)\n",
      "18.4 µs ± 5.83 µs per loop (mean ± std. dev. of 7 runs, 100000 loops each)\n"
     ]
    }
   ],
   "source": [
    "a = get_random_array(50, 100)\n",
    "K = 40\n",
    "\n",
    "%timeit k_largest_sort(a, K)\n",
    "%timeit k_largest_quickselect(a, K)\n",
    "%timeit k_largest_heap(a, K)"
   ]
  },
  {
   "cell_type": "code",
   "execution_count": 59,
   "metadata": {},
   "outputs": [
    {
     "name": "stdout",
     "output_type": "stream",
     "text": [
      "26 µs ± 223 ns per loop (mean ± std. dev. of 7 runs, 10000 loops each)\n",
      "The slowest run took 6.09 times longer than the fastest. This could mean that an intermediate result is being cached.\n",
      "66.8 ms ± 40.3 ms per loop (mean ± std. dev. of 7 runs, 10 loops each)\n",
      "2.22 ms ± 19 µs per loop (mean ± std. dev. of 7 runs, 100 loops each)\n"
     ]
    }
   ],
   "source": [
    "a = get_random_array(5000, 100)\n",
    "K = 500\n",
    "\n",
    "%timeit k_largest_sort(a, K)\n",
    "%timeit k_largest_quickselect(a, K)\n",
    "%timeit k_largest_heap(a, K)"
   ]
  },
  {
   "cell_type": "code",
   "execution_count": 60,
   "metadata": {},
   "outputs": [
    {
     "name": "stdout",
     "output_type": "stream",
     "text": [
      "341 µs ± 148 µs per loop (mean ± std. dev. of 7 runs, 1000 loops each)\n",
      "3.35 s ± 1.12 s per loop (mean ± std. dev. of 7 runs, 1 loop each)\n",
      "18.2 ms ± 7.13 ms per loop (mean ± std. dev. of 7 runs, 100 loops each)\n"
     ]
    }
   ],
   "source": [
    "a = get_random_array(50000, 100)\n",
    "K = 2\n",
    "\n",
    "%timeit k_largest_sort(a, K)\n",
    "%timeit k_largest_quickselect(a, K)\n",
    "%timeit k_largest_heap(a, K)"
   ]
  },
  {
   "cell_type": "markdown",
   "metadata": {},
   "source": [
    "Dopo aver provato diversi set di varia lunghezza con un diverso numero di chiavi ogni volta, l'ordine degli algoritmi (in termini di tempo) rimane sempre: Algo1, Algo3 e Alg2"
   ]
  },
  {
   "cell_type": "markdown",
   "metadata": {
    "slideshow": {
     "slide_type": "subslide"
    }
   },
   "source": [
    "---\n",
    "\n",
    "### Exercise: compute distinct elements\n",
    "You are given a list A of elements and you want to obtain the list of distict elements in A.\n",
    "\n",
    "There are two possible algorithms to do this:\n",
    "\n",
    "- Use ```list(set(A))```\n",
    "- Sort A and then scan. Implement this as a function ```distinct(A)``` \n",
    "\n",
    "Compare these two approaches by varying the size of the array and the number of distinct elements."
   ]
  },
  {
   "cell_type": "code",
   "execution_count": 61,
   "metadata": {},
   "outputs": [],
   "source": [
    "## Your implementation here!!!\n",
    "def distinct(A): #se il precedente è diverso dal successivo\n",
    "    A=sorted(A)\n",
    "    n_A=[]\n",
    "    for i in range(len(A)):\n",
    "        if A[i-1] != A[i]:\n",
    "            n_A.append(A[i])\n",
    "    return n_A"
   ]
  },
  {
   "cell_type": "code",
   "execution_count": 62,
   "metadata": {},
   "outputs": [
    {
     "name": "stdout",
     "output_type": "stream",
     "text": [
      "[2, 3, 4, 10]\n"
     ]
    }
   ],
   "source": [
    "A = [10, 2, 3, 3, 4, 3, 4]\n",
    "print(distinct(A))"
   ]
  },
  {
   "cell_type": "code",
   "execution_count": 63,
   "metadata": {},
   "outputs": [],
   "source": [
    "## test your implementation\n",
    "a = get_random_array(1000)\n",
    "\n",
    "assert sorted(distinct(a)) == sorted(list(set(a))), \"FAIL!\""
   ]
  },
  {
   "cell_type": "code",
   "execution_count": 64,
   "metadata": {},
   "outputs": [
    {
     "name": "stdout",
     "output_type": "stream",
     "text": [
      "211 µs ± 56.5 µs per loop (mean ± std. dev. of 7 runs, 1000 loops each)\n",
      "2.25 ms ± 835 µs per loop (mean ± std. dev. of 7 runs, 1000 loops each)\n"
     ]
    }
   ],
   "source": [
    "a = get_random_array(10000, 10)\n",
    "\n",
    "%timeit list(set(a))\n",
    "%timeit distinct(a)\n",
    "#Il primo algoritmo rimane sempre notavolmente più veloce del secondo. "
   ]
  },
  {
   "cell_type": "markdown",
   "metadata": {},
   "source": [
    "---\n",
    "\n",
    "### Exercise: Pareto frontier of a set of points in 2-D space (aka Skyline problem)\n",
    "We are given a set $S$ of $n$ 2D points.\n",
    "A point $(x,y)$ dominates a point $(x',y')$ iff $𝑥'\\leq 𝑥$ and $y'\\leq 𝑦$. \n",
    "Our goal is to find the set $P$ of dominating points in $S$. \n",
    "This corresponds to find the Pareto frontier (or, equivalently, the skyline). \n",
    "\n",
    "The problem can be solved in $\\Theta(n\\log n)$ time.\n",
    "\n",
    "To find $P$ we need to sort points in $S$ by $x$ in descending order, \n",
    "and if $x$′𝑠 the same by $y$ in descending order. This takes $\\Theta(n\\log n)$ time. \n",
    "Then, we do the following.\n",
    "\n",
    "- Include first point in $P$ and remember this point as $𝑇$. \n",
    "- Iterates through the point (let $C$ current point):\n",
    "* if $C$ is dominated by $T$, then skip $C$ and go to next point;\n",
    "* Otherwise, include $C$ in $P$ and set $𝑇=𝐶$.\n",
    "\n",
    "This step can be performed in linear time.\n",
    "\n",
    "Implement the function ```pareto_frontier(S)```, which returns the pareto frontier $P$ of the points in $S$.\n"
   ]
  },
  {
   "cell_type": "code",
   "execution_count": 65,
   "metadata": {},
   "outputs": [],
   "source": [
    "## Your implementation goes here\n",
    "def pareto_frontier(S):\n",
    "    \n",
    "    S.sort(key=lambda tup: (tup[0], tup[1]), reverse=True) #ordino le tuple in ordine decrescente rispetto ad x e y\n",
    "    P = []\n",
    "    T = S[0]\n",
    "    P.append(T)  #Include first point in 𝑃 and remember this point as 𝑇\n",
    "\n",
    "    \n",
    "    for C in S:\n",
    "        if ((C[0] <= T[0]) and (C[1]<= T[1])): #if 𝐶 is dominated by 𝑇, then skip 𝐶 and go to next point;\n",
    "              continue \n",
    "        else:                 #Otherwise, include 𝐶 in 𝑃 and set 𝑇=𝐶.\n",
    "            P.append(C)       \n",
    "            T = C\n",
    "    return P[::-1] "
   ]
  },
  {
   "cell_type": "code",
   "execution_count": 66,
   "metadata": {},
   "outputs": [
    {
     "name": "stdout",
     "output_type": "stream",
     "text": [
      "[(1, 10), (3, 9.5), (4, 9), (7, 8), (8, 7)]\n"
     ]
    }
   ],
   "source": [
    "S = [(6, 7.5), (7, 8), (8, 7), (2, 9), (3, 9.5), (1, 10), (4, 9), (5, 8)]\n",
    "print(pareto_frontier(S))"
   ]
  },
  {
   "cell_type": "code",
   "execution_count": 67,
   "metadata": {},
   "outputs": [],
   "source": [
    "## Test your implementation here\n",
    "\n",
    "S = [(6, 7.5), (7, 8), (8, 7), (2, 9), (3, 9.5), (1, 10), (4, 9), (5, 8)]\n",
    "\n",
    "assert pareto_frontier(S) == [(1, 10), (3, 9.5), (4, 9), (7, 8), (8, 7)], \"Fail!\""
   ]
  },
  {
   "cell_type": "markdown",
   "metadata": {},
   "source": [
    "----\n",
    "# Lecture 5\n",
    "----\n",
    "\n",
    "### Exercise: Open Addressing with linear probing\n",
    "Complete the implementation below by implementing ```Lookup```and ```Delete```."
   ]
  },
  {
   "cell_type": "code",
   "execution_count": 68,
   "metadata": {},
   "outputs": [],
   "source": [
    "## Your implementation here!!!\n",
    "## Your implementation goes here\n",
    "\n",
    "class linear_probing_set:\n",
    "    def __init__(self, size):\n",
    "        \n",
    "        self.T = [None]*size\n",
    "        self.prime = 993319\n",
    "        self.a = random.randint(2, self.prime-1)\n",
    "        self.b = random.randint(2, self.prime-1)\n",
    "        self.n_keys = 0\n",
    "    \n",
    "    def insert(self, key): # fix len(T) < self.n_keys if you want\n",
    "        if self.lookup(key):\n",
    "            return\n",
    "        h = self.hash(key)\n",
    "        while self.T[h] != None and self.T[h] != 'D':\n",
    "            h += 1\n",
    "            if h == len(self.T):\n",
    "                h = 0\n",
    "        self.T[h] = key\n",
    "        self.n_keys += 1\n",
    "    \n",
    "    # Return True if key is in the set, False otherwise\n",
    "    def lookup(self, key):\n",
    "        h = self.hash(key)       \n",
    "        contatore=0              #contiamo le celle visitate\n",
    "        while self.T[h] != None and contatore<=len(self.T):  # se torna \"None\" la chiave non c'è ***\n",
    "            # e se il contatore è maggiore della lunghezza della Table significa che abbiamo visitato tutte le celle possibili\n",
    "            #senza questo contatore continueremo a visitare le celle all'infinito anche se non troviamo NIL o la chiave\n",
    "            if self.T[h] == key:  #se troviamo la chiave nella cella, ritorna True\n",
    "                return True\n",
    "            h += 1                        #altrimenti controlliamo la cella successiva\n",
    "            contatore+=1                  #e aumentiamo il contatore per contare quante celle visitiamo\n",
    "            if h == len(self.T):          #se arrivo all'ultima posizione da controllare\n",
    "                h = 0                     #poi ricomincio\n",
    "        return False                      #torna False se non trova la chiave\n",
    "    \n",
    "    def delete(self, key):\n",
    "        # TODO\n",
    "        h = self.hash(key)\n",
    "        contatore=0  \n",
    "        while contatore <= len(self.T) and self.T[h] != None:\n",
    "            if self.T[h] == key:          #se la chiave è nella cella\n",
    "                self.T[h] = 'D'           #sostituiamo il suo valore con \"D\" e non con \"NIL\"\n",
    "                self.n_keys=-1            #e riduciamo il numero di keys\n",
    "            h += 1\n",
    "            contatore += 1\n",
    "            if h == len(self.T):\n",
    "                h = 0\n",
    "        return False\n",
    "                \n",
    "    def hash(self, key):\n",
    "        return ((self.a*key + self.b) % self.prime) % len(self.T)\n",
    "    \n",
    "    def len(self):\n",
    "        return self.n_keys"
   ]
  },
  {
   "cell_type": "code",
   "execution_count": 69,
   "metadata": {},
   "outputs": [],
   "source": [
    "## Test your implementation\n",
    "\n",
    "n = 10000\n",
    "\n",
    "a = get_random_array(n, n)\n",
    "\n",
    "queries = get_random_array(n, n)\n",
    "\n",
    "lp_set = linear_probing_set(2*n)\n",
    "std_set = set()\n",
    "\n",
    "for key in a:\n",
    "    lp_set.insert(key)\n",
    "    std_set.add(key)\n",
    "\n",
    "assert len(std_set) == lp_set.len(), \"Fail len!\"     \n",
    "    \n",
    "for key in a:\n",
    "    assert lp_set.lookup(key) == True, \"Lookup fail a\"\n",
    "\n",
    "for key in queries:\n",
    "    assert lp_set.lookup(key) == (key in std_set), \"Lookup fail queries\"\n",
    "    \n",
    "for key in a[:300]:\n",
    "    lp_set.delete(key)\n",
    "    try:\n",
    "        std_set.remove(key)\n",
    "    except:\n",
    "        pass # the key has been already removed\n",
    "          \n",
    "    assert lp_set.lookup(key) == (key in std_set), \"Lookup fail delete\"    \n"
   ]
  },
  {
   "cell_type": "markdown",
   "metadata": {},
   "source": [
    "----\n",
    "### Exercise: Hashing with Chains\n",
    "Complete the implementation below by implementing ```Lookup``` and ```Delete```."
   ]
  },
  {
   "cell_type": "code",
   "execution_count": 70,
   "metadata": {},
   "outputs": [],
   "source": [
    "## Your implementation here!!!\n",
    "## Your implementation goes here\n",
    "\n",
    "class chaining_set:\n",
    "    def __init__(self, size):\n",
    "        \n",
    "        self.T = []\n",
    "        for _ in range(size):\n",
    "            self.T.append([])\n",
    "        ## self.T = [ [] for _ in range(size)]\n",
    "        ## why not self.T = [ [] ] * size ?\n",
    "        \n",
    "        self.prime = 993319\n",
    "        self.a = random.randint(2, self.prime-1)\n",
    "        self.b = random.randint(2, self.prime-1)\n",
    "        self.n_keys = 0\n",
    "        \n",
    "    def insert(self, key):\n",
    "        if self.lookup(key):\n",
    "            return\n",
    "        \n",
    "        h = self.hash(key)\n",
    "        self.T[h].append( key )\n",
    "        self.n_keys += 1\n",
    "    \n",
    "    # return True if key is in the set, False otherwise\n",
    "    def lookup(self, key):\n",
    "        h = self.hash(key)\n",
    "        for i in range(len(self.T[h])):\n",
    "            if self.T[h][i] == key:\n",
    "                return True\n",
    "        return False\n",
    "        \n",
    "\n",
    "    def delete(self, key):\n",
    "        h = self.hash(key)\n",
    "        for i, k in enumerate(self.T[h]): #per ogni posizione e chiave all'interno della tabella\n",
    "            if k == key:                  # se la chiave corrente è uguale alla chiave da eliminare\n",
    "                self.T[h][i],self.T[h][-1]=self.T[h][-1],self.T[h][i] \n",
    "                self.T[h].pop()\n",
    "                self.n_keys -=1\n",
    "                return                        #non troviamo la chiave da cancellare\n",
    "            \n",
    "    def hash(self, key):\n",
    "        return ((self.a*key + self.b) % self.prime) % len(self.T)\n",
    "    \n",
    "    def len(self):\n",
    "        return self.n_keys"
   ]
  },
  {
   "cell_type": "code",
   "execution_count": 71,
   "metadata": {},
   "outputs": [],
   "source": [
    "## Test your implementation\n",
    "\n",
    "n = 10000\n",
    "\n",
    "a = get_random_array(n, n)\n",
    "\n",
    "queries = get_random_array(n, n)\n",
    "\n",
    "c_set = chaining_set(2*n)\n",
    "std_set = set()\n",
    "\n",
    "for key in a:\n",
    "    c_set.insert(key)\n",
    "    std_set.add(key)\n",
    "\n",
    "assert len(std_set) == c_set.len(), \"Fail len!\"     \n",
    "    \n",
    "for key in a:\n",
    "    assert c_set.lookup(key) == True, \"Lookup fail a\"\n",
    "\n",
    "for key in queries:\n",
    "    assert c_set.lookup(key) == (key in std_set), \"Lookup fail queries\"\n",
    "    \n",
    "for key in a[:300]:\n",
    "    c_set.delete(key)\n",
    "    try:\n",
    "        std_set.remove(key)\n",
    "    except:\n",
    "        pass # the key has been already removed\n",
    "          \n",
    "    assert c_set.lookup(key) == (key in std_set), \"Lookup fail delete\"  "
   ]
  },
  {
   "cell_type": "markdown",
   "metadata": {},
   "source": [
    "----\n",
    "\n",
    "### Exercise: Dictionary\n",
    "Modify the previous code (i.e., Hashing with Chains) to implement a dictionary, i.e., store a value together with each key. \n",
    "You need to implement methods:\n",
    "- ```Insert(key, value)```: insert the key with its value. If the key was already present, change its value;\n",
    "- ```Delete(key)```: remove the key;\n",
    "- ```Lookup(key)```: return True if the key is present, False otherwise;\n",
    "- ```Value(key)```: return the value associated with the key. It returns None, if the key is not present.\n",
    "\n",
    "I suggest to store pairs (key, value) within the lists."
   ]
  },
  {
   "cell_type": "code",
   "execution_count": 72,
   "metadata": {},
   "outputs": [],
   "source": [
    "## Your implementation here!!!\n",
    "class dictionary:\n",
    "    def __init__(self, size):\n",
    "        self.T = []\n",
    "        for _ in range(size):\n",
    "            self.T.append([])\n",
    "            \n",
    "        self.prime = 993319\n",
    "        self.a = random.randint(2, self.prime-1)\n",
    "        self.b = random.randint(2, self.prime-1)\n",
    "        self.n_keys = 0\n",
    "        \n",
    "        \n",
    "    def lookup(self, key):\n",
    "        h = self.hash(key)\n",
    "        for pos, tup in enumerate(self.T[h]): #self.T[h] è una lista che trovo nella cella definita da h (abbiamo una lista di liste). Tale lista è composta da tuple con (key e valore)\n",
    "            if tup[0] == key: #se la chiave (=il primo valore che trovo) nella tupla è uguale a key, return True\n",
    "                return True\n",
    "        return False \n",
    "    \n",
    "    \n",
    "    def insert(self, key, value):\n",
    "        h = self.hash(key) \n",
    "        for pos, tup in enumerate(self.T[h]): #per ogni pos nella lista e tupla in quella posizione\n",
    "            if tup[0] == key: #se la cella ha già quella chiave\n",
    "                self.T[h][pos]= (key, value) #cambio il valore\n",
    "                return\n",
    "        self.T[h].append((key, value)) #aggiungo la tupla\n",
    "        self.n_keys += 1\n",
    "    \n",
    "    \n",
    "    def delete(self, key):\n",
    "        h = self.hash(key)\n",
    "        for pos, tup in enumerate(self.T[h]):\n",
    "            if tup[0] == key:\n",
    "                self.T[h][pos],self.T[h][-1]=self.T[h][-1],self.T[h][pos] \n",
    "                self.T[h].pop()\n",
    "                self.n_keys -=1\n",
    "                return  \n",
    "            \n",
    "            \n",
    "    def value(self, key):\n",
    "        h = self.hash(key)\n",
    "        for pos, tup in enumerate(self.T[h]): \n",
    "            if tup[0] == key: \n",
    "                return tup[1]\n",
    "        return None\n",
    "        \n",
    "    def hash(self, key):\n",
    "        return ((self.a*key + self.b) % self.prime) % len(self.T)\n",
    "    \n",
    "    def len(self):\n",
    "        return self.n_keys  "
   ]
  },
  {
   "cell_type": "code",
   "execution_count": 73,
   "metadata": {},
   "outputs": [],
   "source": [
    "## Test your implementation\n",
    "\n",
    "n = 10000\n",
    "\n",
    "chiavi = get_random_array(n, n)\n",
    "valori=get_random_array(n, n)\n",
    "a = list(zip(chiavi, valori))\n",
    "\n",
    "chiaviq=get_random_array(n, n)\n",
    "valoriq=get_random_array(n, n)\n",
    "queries = list(zip(chiaviq, valoriq))\n",
    "\n",
    "dic= dictionary(2*n)\n",
    "std_dic = dict()\n",
    "\n",
    "for key,value in a:\n",
    "    dic.insert(key, value)\n",
    "    std_dic[key] = value\n",
    "\n",
    "assert len(std_dic) == dic.len(), \"Fail len!\"     \n",
    "    \n",
    "for key in chiavi:\n",
    "    assert dic.lookup(key) == True, \"Lookup fail key\"\n",
    "\n",
    "for key in chiaviq:\n",
    "    assert dic.lookup(key) == (key in std_dic), \"Lookup fail queries\"\n",
    "\n",
    "for key in chiavi:\n",
    "    assert dic.value(key) == std_dic[key], 'Value fail queries' \n",
    "    \n",
    "for key in chiavi[:300]:\n",
    "    dic.delete(key)\n",
    "    try:\n",
    "        std_dic.pop(key)\n",
    "    except:\n",
    "        pass\n",
    "    \n",
    "    assert dic.lookup(key) == (key in std_dic), 'Lookup fail delete'"
   ]
  },
  {
   "cell_type": "markdown",
   "metadata": {},
   "source": [
    "---\n",
    "# Lecture 6\n",
    "\n",
    "--- \n",
    "### Exercise: Implements your own GroupBy\n",
    "\n",
    "In the rest of your life you are going to use GroupBy implemented in some library, but in this exercise we will implement our own simplified version. \n",
    "\n",
    "You are give a list of tuples, all with the same number of components. In our simplified implementation  of a pandas' DataFrame each tuple in the list is a row of the DataFrame. Each component of a tuple is a value of a column.\n",
    "\n",
    "#### Part I\n",
    "Our first goal is to implement an index to efficiently group by one of the component in the list. \n",
    "\n",
    "We'd like to implement a function ```groupBy(L, id)``` which takes the list of tuples ```L``` and the ```id``` of the component and returns a dictionary. The dictionary is an index very similar to what you implemented for a search engine. \n",
    "We have a key for each distinct value in column ```id```. The value of a certain key ```k``` is the list of indexes of all the tuple having value ```k``` in the column ```id```.\n",
    "This means that, if index ```p``` is in the list of key ```k```, then ```L[p][id] = k```.\n",
    "\n",
    "For example it we have tuples \n",
    "\n",
    "|   | \n",
    "|:-|\n",
    "(1, 5, 11)\n",
    "(0, 4, 1000)\n",
    "(1, 2, 11)\n",
    "(1, 4, 66) \n",
    "(0, 3, 99)\n",
    "\n",
    "The groupBy with id=0 will group by first column.\n",
    "\n",
    "The index is\n",
    "\n",
    "|   | \n",
    "|:--| \n",
    "0: [1, 4]\n",
    "1: [0, 2, 3]\n",
    " \n",
    "#### Part II\n",
    "We'd like to implement a function ```max_groupBy(index, L)``` which takes the index built in previous part on list ```L``` and returns a dictionary. \n",
    "We have a key for each distinct value in column ```id```. The value of a certain key ```k``` is the list. The list has a element for each column: the maximum value in that column for each tuple having value ```k``` in the column ```id```. This, of course, must be implemented by using the index.\n",
    "\n",
    "In the example before, we would obtain the dictionary\n",
    "\n",
    "|   | \n",
    "|:--| \n",
    "0: [0, 4, 1000]\n",
    "1: [1, 5, 66]\n",
    " \n"
   ]
  },
  {
   "cell_type": "code",
   "execution_count": 74,
   "metadata": {},
   "outputs": [],
   "source": [
    "## Your implementation here!!!\n",
    "def groupBy(L, ID):\n",
    "    index=dict()\n",
    "    i=0\n",
    "    for tup in L:\n",
    "        if tup[ID] not in index: # ex: tup[0]= valore alla posizione zero della tupla (colonna 0)\n",
    "            index[tup[ID]]=[]    # se il valore non c'è, creo una lista\n",
    "        index[tup[ID]].append(i) # appendo la posizione della riga\n",
    "        i+=1                     # grazie a questo contatore tengo traccia delle righe\n",
    "    return index\n"
   ]
  },
  {
   "cell_type": "code",
   "execution_count": 75,
   "metadata": {},
   "outputs": [],
   "source": [
    "def max_groupBy(index, L):\n",
    "    diz=dict()\n",
    "    num_col=len(L[0])\n",
    "    massimo=[]\n",
    "    minimo=[]\n",
    "    \n",
    "    for i in L:\n",
    "        minimo.append(min(i)) #cerco il minimo valore in ogni tupla\n",
    "    #print(minimo)\n",
    "    \n",
    "    for k, value in index.items():\n",
    "        massimo=[min(minimo)]*num_col \n",
    "        #creo una lista \"massimo\" che inizializzo con il valore più piccolo di tutta la tabella ripetuto 3 volte (3= numero colonne in questo caso)\n",
    "        #questo mi permette di fare il confronto successivamente \n",
    "        #print(massimo)\n",
    "        for riga in value:\n",
    "            for col in range(num_col):\n",
    "                massimo[col]= max(massimo[col], L[riga][col])\n",
    "        diz[k] = massimo\n",
    "    return diz  "
   ]
  },
  {
   "cell_type": "code",
   "execution_count": 76,
   "metadata": {},
   "outputs": [
    {
     "name": "stdout",
     "output_type": "stream",
     "text": [
      "{1: [0, 2, 3], 0: [1, 4]}\n",
      "{1: [1, 5, 66], 0: [0, 4, 1000]}\n"
     ]
    }
   ],
   "source": [
    "data = [(1, 5, 11), \n",
    "        (0, 4, 1000), \n",
    "        (1, 2, 11), \n",
    "        (1, 4, 66), \n",
    "        (0, 3, 99)]\n",
    "\n",
    "idx=groupBy(data,0)\n",
    "print(groupBy(data,0))\n",
    "print(max_groupBy(idx, data))\n"
   ]
  },
  {
   "cell_type": "code",
   "execution_count": 77,
   "metadata": {},
   "outputs": [],
   "source": [
    "## Test you implementation here\n",
    "data = [(1, 5, 11), \n",
    "        (0, 4, 1000), \n",
    "        (1, 2, 11), \n",
    "        (1, 4, 66), \n",
    "        (0, 3, 99)]\n",
    "\n",
    "idx=groupBy(data,0)\n",
    "\n",
    "\n",
    "assert groupBy(data, 0) == {1:[0, 2, 3], 0: [1, 4]}, \" FAIL! \"\n",
    "assert max_groupBy(idx, data) == {1: [1, 5, 66], 0: [0, 4, 1000]}, \" FAIL! \""
   ]
  },
  {
   "cell_type": "markdown",
   "metadata": {},
   "source": [
    "---\n",
    "# Lecture 7\n",
    "---\n",
    "### Exercise: Static sorted map\n",
    "Complete and test the implementation below. You have to use binary search to solve predecessor and successor queries on a sorted array."
   ]
  },
  {
   "cell_type": "code",
   "execution_count": 78,
   "metadata": {},
   "outputs": [],
   "source": [
    "## Your implementation here!!!\n",
    "class StaticSortedMap:\n",
    "    def __init__(self, A): # assume A is already sorted\n",
    "        self.sorted_map = A[:] # copy input array\n",
    "        \n",
    "    def min(self):\n",
    "        return self.sorted_map[0]\n",
    "    \n",
    "    def max(self):\n",
    "        return self.sorted_map[-1]\n",
    "    \n",
    "    def search(self, key): \n",
    "        p=0\n",
    "        e=len(self.sorted_map)-1\n",
    "        def __binary_search(p, e, key):\n",
    "            if p>e:\n",
    "                return False, p\n",
    "            if p==e:\n",
    "                if self.sorted_map[p]==key:\n",
    "                    return True, p\n",
    "                \n",
    "            \n",
    "            q=(p+e)//2\n",
    "            if self.sorted_map[q]==key:\n",
    "                return True, q\n",
    "            elif self.sorted_map[q]<key:\n",
    "                return (__binary_search(q+1, e, key))\n",
    "            elif self.sorted_map[q]>key:\n",
    "                return (__binary_search(p, q-1, key))\n",
    "            else:\n",
    "                return False, q+1\n",
    "                \n",
    "        return __binary_search(0, len(self.sorted_map)-1, key)\n",
    "            \n",
    "    def predecessor(self, key):\n",
    "        stato,pos = self.search(key)\n",
    "        if pos==0:#la posizione è zero, quindi il predecessore non esiste. \n",
    "            return None\n",
    "        if stato==True:#il predecessore esiste\n",
    "            return pos-1, self.sorted_map[pos-1]#return position and value of predecessor.\n",
    "        return pos-1, self.sorted_map[pos-1]#il predecessore non esiste, ma ritorna comunque dove dovrebbe essere il valore\n",
    "            \n",
    "            \n",
    "    def successor(self, key):\n",
    "        stato,pos = self.search(key)\n",
    "        if pos>= (len(self.sorted_map)-1):#la posizione è l'ultima, quindi il successore non esiste. \n",
    "            return None\n",
    "        if stato==True:#il predecessore esiste\n",
    "            return pos+1, self.sorted_map[pos+1]  #return position and value of successor. \n",
    "        return pos, self.sorted_map[pos] #dove dovrebbe essere se ci fosse"
   ]
  },
  {
   "cell_type": "code",
   "execution_count": 79,
   "metadata": {},
   "outputs": [],
   "source": [
    "## Test your implementation here\n",
    "A = [2,5,7,8,10,22,33,50]\n",
    "a = StaticSortedMap(A)\n",
    "\n",
    "assert a.search(10)== (True,4), \"Fail Search!\"\n",
    "assert a.predecessor(10)==(3, 8), \"Fail Predecessor!\"\n",
    "assert a.successor(10)==(5, 22), \"Fail Successor!\""
   ]
  },
  {
   "cell_type": "code",
   "execution_count": 80,
   "metadata": {},
   "outputs": [
    {
     "name": "stdout",
     "output_type": "stream",
     "text": [
      "Search (False, 0)\n",
      "Search (False, 1)\n",
      "Successor (5, 22)\n",
      "Successor None\n",
      "Predecessor (6, 33)\n",
      "Predecessor (6, 33)\n",
      "Predecessor None\n"
     ]
    }
   ],
   "source": [
    "A = [2,5,7,8,10,22,33,50]\n",
    "a = StaticSortedMap(A)\n",
    "print(\"Search\", a.search(1))\n",
    "print(\"Search\", a.search(4))\n",
    "print(\"Successor\", a.successor(10))\n",
    "print(\"Successor\", a.successor(50))\n",
    "print(\"Predecessor\", a.predecessor(50))\n",
    "print(\"Predecessor\", a.predecessor(49))\n",
    "print(\"Predecessor\", a.predecessor(2))"
   ]
  },
  {
   "cell_type": "code",
   "execution_count": null,
   "metadata": {},
   "outputs": [],
   "source": []
  },
  {
   "cell_type": "markdown",
   "metadata": {},
   "source": [
    "----\n",
    "### Exercise: Binary Search Tree\n",
    "Extend the previous implementation of Binary Search Trees to support **search(x)** operation. Test your implementation."
   ]
  },
  {
   "cell_type": "code",
   "execution_count": 81,
   "metadata": {},
   "outputs": [],
   "source": [
    "## Your implementation here!!!\n",
    "class BinarySearchTree:\n",
    "    # This is a Node class that is internal to the BinarySearchTree class\n",
    "    class __Node:\n",
    "        def __init__(self, val, left=None, right=None):\n",
    "            self.val = val\n",
    "            self.left = left\n",
    "            self.right = right\n",
    "            \n",
    "        def getVal(self): \n",
    "            return self.val\n",
    "\n",
    "        def setVal(self, newval): \n",
    "            self.val = newval\n",
    "            \n",
    "        def getLeft(self): \n",
    "            return self.left\n",
    "        \n",
    "        def getRight(self): \n",
    "            return self.right\n",
    "        \n",
    "        def setLeft(self, newleft): \n",
    "            self.left = newleft\n",
    "        \n",
    "        def setRight(self, newright): \n",
    "            self.right = newright\n",
    "            \n",
    "        # This method deserves a little explanation. It does an inorder traversal\n",
    "        # of the nodes of the tree yielding all the values. In this way, we get\n",
    "        # the values in ascending order.       \n",
    "        def __iter__(self):\n",
    "            if self.left != None:\n",
    "                for elem in self.left: \n",
    "                    yield elem\n",
    "            yield self.val\n",
    "            if self.right != None:\n",
    "                for elem in self.right:\n",
    "                    yield elem\n",
    "                    \n",
    "    # Below methods of the BinarySearchTree class.\n",
    "    def __init__(self): \n",
    "        self.root = None\n",
    "         \n",
    "    def insert(self, val):   \n",
    "        # The __insert function is recursive and is not a passed a self parameter. It is a # static function (not a method of the class) but is hidden inside the insert\n",
    "        # function so users of the class will not know it exists.\n",
    "        def __insert(root, val): \n",
    "            if root == None:\n",
    "                return BinarySearchTree.__Node(val)\n",
    "            if val < root.getVal(): \n",
    "                root.setLeft( __insert(root.getLeft(), val) )\n",
    "            else: \n",
    "                root.setRight(__insert(root.getRight(), val))\n",
    "            return root\n",
    "        \n",
    "        self.root = __insert(self.root, val)\n",
    "        \n",
    "    def search(self,val):\n",
    "        node = self.root\n",
    "        def __search(node, val):\n",
    "            if node != None:\n",
    "                if val == node.getVal():\n",
    "                    return (True,val)\n",
    "                elif val < node.getVal():\n",
    "                    return __search(node.left, val)\n",
    "                elif val > node.getVal():\n",
    "                    return __search(node.right, val)\n",
    "            return (False,None)\n",
    "        return __search(node, val)"
   ]
  },
  {
   "cell_type": "code",
   "execution_count": 82,
   "metadata": {},
   "outputs": [],
   "source": [
    "a=[3,4,7,9,12,35]\n",
    "bst= BinarySearchTree()\n",
    "\n",
    "for i in a: \n",
    "    bst.insert(i)"
   ]
  },
  {
   "cell_type": "code",
   "execution_count": 83,
   "metadata": {},
   "outputs": [
    {
     "name": "stdout",
     "output_type": "stream",
     "text": [
      "(False, None)\n",
      "(True, 3)\n",
      "(True, 12)\n"
     ]
    }
   ],
   "source": [
    "print(bst.search(13))\n",
    "print(bst.search(3))\n",
    "print(bst.search(12))"
   ]
  },
  {
   "cell_type": "code",
   "execution_count": 84,
   "metadata": {},
   "outputs": [],
   "source": [
    "# Test your implementation here\n",
    "a= sorted(get_random_array(10))\n",
    "bst= BinarySearchTree()\n",
    "\n",
    "for i in a: \n",
    "    bst.insert(i)\n",
    "    \n",
    "for j in a:\n",
    "    assert bst.search(j) == (True,j), \"Fail Search!\""
   ]
  },
  {
   "cell_type": "markdown",
   "metadata": {},
   "source": [
    "---\n",
    "# Lecture 8\n",
    "---\n",
    "### Exercise: Strongly Connected Components\n",
    "The goal of this exercise is to implement the following algorithm to compute the strongly connected components of a directed graph $G$. [See here](https://www.hackerearth.com/practice/algorithms/graphs/strongly-connected-components/tutorial/). \n",
    "\n",
    "In a directed graph a component is strongly connected if there is a directed path from any vertex to every other vertex of the component. The problem asks to is to partition the graph into maximal strongly connected components.\n",
    "\n",
    "NetworkX provides a method to compute the strongly connected components of a graph [here](https://networkx.github.io/documentation/stable/reference/algorithms/generated/networkx.algorithms.components.strongly_connected_components.html#networkx.algorithms.components.strongly_connected_components). \n",
    "\n",
    "Your goal is to implement the Kosaraju's Linear time algorithm to find Strongly Connected Component. \n",
    "The algorithm is described [here](https://www.hackerearth.com/practice/algorithms/graphs/strongly-connected-components/tutorial).\n",
    "\n",
    "It works in three steps. \n",
    "\n",
    "- Do a DFS on the original graph, keeping track of the DFS finish times of each node. This can be done with a stack, when some  finishes put the source vertex on the stack. This way node with highest finishing time will be on top of the stack.\n",
    "- Reverse the original graph, i.e., if there is an edge $(u,v)$ in the original graph, add the edge $(v,u)$ in the reversed one.\n",
    "-  Do DFS on the reversed graph, with the source vertex as the vertex on top of the stack. When DFS finishes, all nodes visited will form one Strongly Connected Component. If any more nodes remain unvisited, this means there are more Strongly Connected Component's, so pop vertices from top of the stack until a valid unvisited node is found. This will have the highest finishing time of all currently unvisited nodes.\n",
    "\n",
    "Take a look at [DFS traversal documentation](https://networkx.github.io/documentation/stable/reference/algorithms/traversal.html#module-networkx.algorithms.traversal.depth_first_search).\n",
    "Note that the finishing time of a node can be inferred from its position in the DFS tree. "
   ]
  },
  {
   "cell_type": "code",
   "execution_count": 85,
   "metadata": {},
   "outputs": [],
   "source": [
    "from random import random, choice\n",
    "from networkx.utils import pairwise\n",
    "import networkx as nx\n",
    "import matplotlib.pyplot as plt\n",
    "import numpy as np\n",
    "\n",
    "from networkx.drawing.nx_agraph import graphviz_layout\n",
    "\n",
    "def plot_graph(G):\n",
    "    nx.draw(G, with_labels = True)  \n",
    "    plt.show()\n",
    "    \n",
    "def plot_graph_with_weights(G):\n",
    "    pos = nx.planar_layout(G) # pos = nx.nx_agraph.graphviz_layout(G)\n",
    "    nx.draw_networkx(G,pos)\n",
    "    labels = nx.get_edge_attributes(G,'weight')\n",
    "    nx.draw_networkx_edge_labels(G, pos, edge_labels=labels)\n",
    "    plt.show()\n",
    "    \n",
    "    #può essere realizzato in un piace of paper, senza che nessun edge si può incontrare\n",
    "\n",
    "def plot_tree(tree):\n",
    "    pos = graphviz_layout(tree, prog='dot')\n",
    "    nx.draw(tree, pos, with_labels=True)\n",
    "    plt.show()\n",
    "    \n",
    "def plot_graph_and_highlight_dijistra(G, path):\n",
    "    pos = graphviz_layout(G)\n",
    "    nx.draw(G, pos, with_labels = True)\n",
    "\n",
    "    nx.draw_networkx_nodes(G, pos, nodelist=path,node_color='r', with_labels=True)\n",
    "    path_edges = list(zip(path, path[1:]))\n",
    "    nx.draw_networkx_edges(G, pos, edgelist=path_edges, edge_color='r', width=4)\n",
    "    plt.show()"
   ]
  },
  {
   "cell_type": "code",
   "execution_count": 86,
   "metadata": {},
   "outputs": [],
   "source": [
    "## Your implementation goes here\n",
    "def strongly_connected_components(G):\n",
    "    #step 1\n",
    "    stack=[] \n",
    "    for i in G.nodes():\n",
    "        stack.extend(list(nx.dfs_postorder_nodes(G))) #DFS sul grafo e inserimento dei nodi in base al tempo di fine visita\n",
    "    \n",
    "    #step 2= reverse the original graph\n",
    "    reverse=G.reverse() \n",
    "    \n",
    "    \n",
    "    #step 3\n",
    "    SCC=[] #per inserire gli strongly connected components\n",
    "    visited=set()\n",
    "    while stack: #fino a quando abbiamo elementi dentro la stack\n",
    "        sorgente=stack.pop() #nodo con il tempo finale più alto\n",
    "        if sorgente in visited:\n",
    "            continue \n",
    "            \n",
    "        else: #se il nodo non è stato visitato\n",
    "            preorder_nodes=list(nx.dfs_preorder_nodes(reverse,sorgente)) #nodi raggiungibili da SORGENTE in ordine crescente in base al tempo di fine visita\n",
    "            nuovi_c=set() #nuovi_c sono i nodi raggiungibili da SORGENTE che non sono stati già visitati e che formeranno la nuova SSC\n",
    "        \n",
    "            for nodo in preorder_nodes:\n",
    "                if nodo not in visited:\n",
    "                    nuovi_c.add(nodo)\n",
    "                    \n",
    "            visited.update(preorder_nodes)  \n",
    "            SCC.append(nuovi_c)\n",
    "        \n",
    "    return SCC"
   ]
  },
  {
   "cell_type": "code",
   "execution_count": 87,
   "metadata": {},
   "outputs": [
    {
     "data": {
      "image/png": "[encoded data removed]",
      "text/plain": [
       "<Figure size 432x288 with 1 Axes>"
      ]
     },
     "metadata": {},
     "output_type": "display_data"
    },
    {
     "name": "stdout",
     "output_type": "stream",
     "text": [
      "[{0, 1, 2, 3}, {4, 5, 6}, {7}]\n"
     ]
    }
   ],
   "source": [
    "\n",
    "DG = nx.DiGraph()\n",
    "DG.add_edges_from([(0,1), (1,2), (2,3), (3,0), (2,4), (4,5), (5,6), (6,4), (6,7)], node_size = 900)\n",
    "plot_graph(DG)\n",
    "print(strongly_connected_components(DG))"
   ]
  },
  {
   "cell_type": "code",
   "execution_count": 88,
   "metadata": {},
   "outputs": [],
   "source": [
    "## Test your implementation here\n",
    "a=strongly_connected_components(DG)\n",
    "for node in a:\n",
    "        assert True == (node in list(nx.strongly_connected_components(DG))), \"Fail\""
   ]
  },
  {
   "cell_type": "code",
   "execution_count": null,
   "metadata": {},
   "outputs": [],
   "source": []
  }
 ],
 "metadata": {
  "kernelspec": {
   "display_name": "Python 3",
   "language": "python",
   "name": "python3"
  },
  "language_info": {
   "codemirror_mode": {
    "name": "ipython",
    "version": 3
   },
   "file_extension": ".py",
   "mimetype": "text/x-python",
   "name": "python",
   "nbconvert_exporter": "python",
   "pygments_lexer": "ipython3",
   "version": "3.8.3"
  }
 },
 "nbformat": 4,
 "nbformat_minor": 4
}
